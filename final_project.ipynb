{
 "cells": [
  {
   "cell_type": "code",
   "execution_count": 5,
   "id": "ed468608",
   "metadata": {},
   "outputs": [
    {
     "ename": "ModuleNotFoundError",
     "evalue": "No module named 'cv2'",
     "output_type": "error",
     "traceback": [
      "\u001b[0;31m---------------------------------------------------------------------------\u001b[0m",
      "\u001b[0;31mModuleNotFoundError\u001b[0m                       Traceback (most recent call last)",
      "\u001b[0;32m/tmp/ipykernel_15521/1325813035.py\u001b[0m in \u001b[0;36m<module>\u001b[0;34m\u001b[0m\n\u001b[1;32m      1\u001b[0m \u001b[0;31m# Imports\u001b[0m\u001b[0;34m\u001b[0m\u001b[0;34m\u001b[0m\u001b[0m\n\u001b[0;32m----> 2\u001b[0;31m \u001b[0;32mimport\u001b[0m \u001b[0mcv2\u001b[0m\u001b[0;34m\u001b[0m\u001b[0;34m\u001b[0m\u001b[0m\n\u001b[0m\u001b[1;32m      3\u001b[0m \u001b[0;32mimport\u001b[0m \u001b[0mpytesseract\u001b[0m\u001b[0;34m\u001b[0m\u001b[0;34m\u001b[0m\u001b[0m\n\u001b[1;32m      4\u001b[0m \u001b[0;32mimport\u001b[0m \u001b[0mnumpy\u001b[0m \u001b[0;32mas\u001b[0m \u001b[0mnp\u001b[0m\u001b[0;34m\u001b[0m\u001b[0;34m\u001b[0m\u001b[0m\n\u001b[1;32m      5\u001b[0m \u001b[0;32mfrom\u001b[0m \u001b[0mmatplotlib\u001b[0m \u001b[0;32mimport\u001b[0m \u001b[0mpyplot\u001b[0m \u001b[0;32mas\u001b[0m \u001b[0mplt\u001b[0m\u001b[0;34m\u001b[0m\u001b[0;34m\u001b[0m\u001b[0m\n",
      "\u001b[0;31mModuleNotFoundError\u001b[0m: No module named 'cv2'"
     ]
    }
   ],
   "source": [
    "# Imports \n",
    "import cv2\n",
    "import pytesseract\n",
    "import numpy as np\n",
    "from matplotlib import pyplot as plt\n",
    "from numpy.typing import NDArray\n",
    "\n",
    "import re\n",
    "\n",
    "from os.path import exists\n",
    "from typing import Callable\n",
    "\n",
    "\n",
    "# RETIRAR DEPOIS\n",
    "from receipt import Receipt \n",
    "from utils import clean, image_exists, prompt "
   ]
  },
  {
   "cell_type": "markdown",
   "id": "64dd2995",
   "metadata": {},
   "source": [
    "### Util Functions"
   ]
  },
  {
   "cell_type": "code",
   "execution_count": null,
   "id": "e3d3cce3",
   "metadata": {},
   "outputs": [],
   "source": [
    "def plot(\n",
    "    imgs: list[dict[str, NDArray | str]], n_rows: int, n_cols: int, axis=True\n",
    ") -> None:\n",
    "    \"\"\"\n",
    "    Plot a list of images using MatPlotLib.\n",
    "\n",
    "    Parameters\n",
    "    ----------\n",
    "    imgs: images to be plotted\n",
    "    n_rows: number of rows in the grid\n",
    "    n_cols: number of columns in the grid\n",
    "    axis: should the axis be shown in the subplots\n",
    "    \"\"\"\n",
    "    actual_n_rows = len(imgs) // n_cols\n",
    "    n_cols_last_row = len(imgs) - (actual_n_rows - 1) * n_cols\n",
    "\n",
    "    for i in range(1, actual_n_rows + 1):\n",
    "        for j in range(1, n_cols_last_row + 1):\n",
    "            img = imgs[(index := (i - 1) * n_cols + j) - 1]\n",
    "            plt.subplot(int(f\"{n_rows}{n_cols}{index}\"))\n",
    "            plt.axis(\"on\" if axis else \"off\")\n",
    "            plt.title(img[\"title\"])\n",
    "            plt.imshow(img[\"image\"], cmap=img[\"cmap\"] if \"cmap\" in img else \"gray\")\n",
    "\n",
    "    plt.show()"
   ]
  },
  {
   "cell_type": "code",
   "execution_count": null,
   "id": "a20cdb06",
   "metadata": {},
   "outputs": [],
   "source": [
    "def clean(img: NDArray) -> NDArray:\n",
    "    \"\"\"\n",
    "    Apply a cleaning (image procesing) pipeline to an image. The pipeline's core\n",
    "    consists in morphological dilation and image subtraction.\n",
    "\n",
    "    Parameters\n",
    "    ----------\n",
    "    img: the image to be processed\n",
    "\n",
    "    Returns\n",
    "    -------\n",
    "    The processed image\n",
    "    \"\"\"\n",
    "    # remove text using dilatation and median blur - this\n",
    "    # leaves only the background (including noise and shadows)\n",
    "    dilated_img = cv2.dilate(img, np.ones((7, 7)))\n",
    "    background_img = cv2.medianBlur(dilated_img, 21)\n",
    "\n",
    "    # subtract the background + noise + shadow from\n",
    "    # the original image - this leaves only the text\n",
    "    foreground_img = 255 - cv2.absdiff(img, background_img)\n",
    "\n",
    "    # normalize the image\n",
    "    normalized_img = foreground_img\n",
    "    cv2.normalize(\n",
    "        normalized_img,\n",
    "        normalized_img,\n",
    "        alpha=0,\n",
    "        beta=255,\n",
    "        norm_type=cv2.NORM_MINMAX,\n",
    "    )\n",
    "\n",
    "    # truncate image and normalize again\n",
    "    _, truncated_img = cv2.threshold(normalized_img, 230, 0, cv2.THRESH_TRUNC)\n",
    "    cv2.normalize(\n",
    "        truncated_img,\n",
    "        truncated_img,\n",
    "        alpha=0,\n",
    "        beta=255,\n",
    "        norm_type=cv2.NORM_MINMAX,\n",
    "    )\n",
    "\n",
    "    return truncated_img"
   ]
  },
  {
   "cell_type": "code",
   "execution_count": null,
   "id": "007dbf0f",
   "metadata": {},
   "outputs": [],
   "source": [
    "def parse_float(number: str) -> float:\n",
    "    \"\"\"Parse a comma-separated decimal number to a float rounded to 2 decimal places.\"\"\"\n",
    "    return round(float(number.replace(\",\", \".\")), 2)"
   ]
  },
  {
   "cell_type": "code",
   "execution_count": null,
   "id": "ee4fb740",
   "metadata": {},
   "outputs": [],
   "source": [
    "def get_n_leading_zeros(length: int) -> int:\n",
    "    \"\"\"\n",
    "    Calculate the necessary number of leading zeros to consistently enumerate all elements in a list of given length.\n",
    "\n",
    "    Parameters\n",
    "    ----------\n",
    "    length: how many elements there are in the list to be enumerated\n",
    "\n",
    "    Returns\n",
    "    -------\n",
    "    Number of leading zeros necessary.\n",
    "    \"\"\"\n",
    "    return len(str(length))"
   ]
  },
  {
   "cell_type": "code",
   "execution_count": null,
   "id": "a66ab80f",
   "metadata": {},
   "outputs": [],
   "source": [
    "def image_exists(filepath: str) -> bool:\n",
    "    \"\"\"Check if a filepath refers to a PNG or JPG file that exists.\"\"\"\n",
    "    return (filepath.endswith(\".png\") or filepath.endswith(\".jpg\")) and exists(filepath)"
   ]
  },
  {
   "cell_type": "code",
   "execution_count": null,
   "id": "dc768e88",
   "metadata": {},
   "outputs": [],
   "source": [
    "def prompt(\n",
    "    text: str,\n",
    "    validate: Callable | None = None,\n",
    "    err: str = \"Invalid input, try again.\",\n",
    ") -> str:\n",
    "    \"\"\"\n",
    "    Prompt user for input and only return when the input is valid.\n",
    "\n",
    "    Parameters\n",
    "    ----------\n",
    "    text: input prompt.\n",
    "    validate?: validator for the input - if none is provided, all input is considered valid.\n",
    "               It should receive a string to validate as parameter and return a bool.\n",
    "    err error message in case validation fails. Defaults to: \"Invalid input, try again.\"\n",
    "\n",
    "    Returns\n",
    "    -------\n",
    "    The user's validated input.\n",
    "    \"\"\"\n",
    "    if not text.endswith(\"\\n\"):\n",
    "        text += \" \"\n",
    "    r = input(text)\n",
    "    if validate:\n",
    "        is_valid = validate(r)\n",
    "        while not is_valid:\n",
    "            r = input(f\"\\n{err} {text}\")\n",
    "            is_valid = validate(r)\n",
    "    return r"
   ]
  },
  {
   "cell_type": "markdown",
   "id": "af82f55b",
   "metadata": {},
   "source": [
    "### Define the class Product"
   ]
  },
  {
   "cell_type": "markdown",
   "id": "e8472b82",
   "metadata": {},
   "source": [
    "texto explicativo da classe"
   ]
  },
  {
   "cell_type": "code",
   "execution_count": null,
   "id": "d855c823",
   "metadata": {},
   "outputs": [],
   "source": [
    "class Product:\n",
    "    \"\"\"Represent a grocery product.\"\"\"\n",
    "\n",
    "    __name: str\n",
    "    \"\"\"The product's name.\"\"\"\n",
    "    __quantity: float\n",
    "    \"\"\"The quantity that was bought (can be in units, kilograms, etc).\"\"\"\n",
    "    __measurement_unity: str\n",
    "    \"\"\"The measurement unit used in `__quantity`: units, kilograms, etc.\"\"\"\n",
    "    __unit_price: float\n",
    "    \"\"\"The price of one unit/kilogram/etc of this product.\"\"\"\n",
    "    __price: float\n",
    "    \"\"\"The total value spent on purchasing this product.\"\"\"\n",
    "    __pricing_inconsistent: bool\n",
    "    \"\"\"\n",
    "    If the total price read from the raw text is too different from the on\n",
    "    calculated through the quantity and unit price.\n",
    "    \"\"\"\n",
    "\n",
    "    def __init__(self, raw: str):\n",
    "        # use regex to extract relevant info\n",
    "        matches: list[tuple[str, ...]] = re.findall(\n",
    "            r\"^[\\w\\d]*\\s*[a-z\\s]*([\\w\\d\\s]+?)\\s*(\\d*,?\\d*(UN|KG)) x (\\d*,?\\d*).+?(\\d*,?\\d*)$\",\n",
    "            self.__substitute_common_mistakes(raw.strip()),\n",
    "        )\n",
    "\n",
    "        if not matches:\n",
    "            raise RuntimeError(\"Product data couldn't be parsed.\")\n",
    "\n",
    "        name, quantity, unity, unit_price, price = matches[0]\n",
    "\n",
    "        # format and save data\n",
    "        self.__name = name.title()\n",
    "        self.__quantity = parse_float(quantity.replace(unity, \"\"))\n",
    "        self.__measurement_unity = unity.lower()\n",
    "        self.__unit_price = parse_float(unit_price)\n",
    "        self.__price = parse_float(price)\n",
    "        self.__pricing_inconsistent = (\n",
    "            abs(self.__unit_price * self.__quantity - self.__price) > 1\n",
    "        )\n",
    "\n",
    "    def __str__(self) -> str:\n",
    "        representation = [\n",
    "            f\"Product name: {self.get_name()}\\n\",\n",
    "            f\"Quantity bought: {self.get_quantity()}\",\n",
    "            \" (maybe)\\n\" if self.__pricing_inconsistent else \"\\n\",\n",
    "            f\"Price per {self.__measurement_unity}.: R${self.get_unit_price()}\",\n",
    "            \" (maybe)\\n\" if self.__pricing_inconsistent else \"\\n\",\n",
    "            f\"Total price: R${self.get_price()}\",\n",
    "            \" (maybe)\" if self.__pricing_inconsistent else \"\",\n",
    "        ]\n",
    "        return \"\".join(representation)\n",
    "\n",
    "    def get_quantity(self) -> str:\n",
    "        return f\"{self.__quantity} {self.__measurement_unity}.\"\n",
    "\n",
    "    def get_name(self) -> str:\n",
    "        return self.__name\n",
    "\n",
    "    def get_unit_price(self) -> float:\n",
    "        return self.__unit_price\n",
    "\n",
    "    def get_price(self) -> float:\n",
    "        return self.__price\n",
    "\n",
    "    def get_price_inconsistency(self) -> bool:\n",
    "        return self.__pricing_inconsistent\n",
    "\n",
    "    def __substitute_common_mistakes(self, raw: str) -> str:\n",
    "        \"\"\"Correct common OCR mistakes from when parsing a grocery product from a receipt photo.\"\"\"\n",
    "        return (\n",
    "            raw.replace(\"JUN\", \"1UN\")\n",
    "            .replace(\"]\", \"I\")\n",
    "            .replace(\"[\", \"L\")\n",
    "            .replace(\"\\n\", \" \")\n",
    "            .replace(\"k9\", \"kg\")\n",
    "        )"
   ]
  },
  {
   "cell_type": "markdown",
   "id": "9727788e",
   "metadata": {},
   "source": [
    "### Define the class Receipt"
   ]
  },
  {
   "cell_type": "markdown",
   "id": "825f71b4",
   "metadata": {},
   "source": [
    "texto explicativo da classe"
   ]
  },
  {
   "cell_type": "code",
   "execution_count": null,
   "id": "41aa57be",
   "metadata": {},
   "outputs": [],
   "source": [
    "class Receipt:\n",
    "    \"\"\"Represent a grocery receipt.\"\"\"\n",
    "\n",
    "    __products: list[Product] = []\n",
    "    \"\"\"All grocery products in a receipt.\"\"\"\n",
    "    __value: float\n",
    "    \"\"\"The receipt's total value/price.\"\"\"\n",
    "    __pricing_inconsistent: bool\n",
    "    \"\"\"\n",
    "    If the total price read from the raw text is too different from the on\n",
    "    calculated through the sum of all products.\n",
    "    \"\"\"\n",
    "\n",
    "    def __init__(self, raw: str):\n",
    "        items_indexes = re.findall(r\"^\\d+\\s+\", raw, re.IGNORECASE + re.MULTILINE)\n",
    "        price_regex = r\"^Total\\s*R\\$\\s*(\\d{1,},\\d{2}).*$\"\n",
    "        price_line = re.search(price_regex, raw, re.IGNORECASE + re.MULTILINE)\n",
    "\n",
    "        # search for the total price line in the raw text\n",
    "        if price_line:\n",
    "            price_line_start, _ = price_line.span()\n",
    "            price = re.findall(price_regex, raw, re.IGNORECASE + re.MULTILINE)[0]\n",
    "            products_raw = raw[:price_line_start]\n",
    "        else:\n",
    "            price = None\n",
    "            products_raw = raw\n",
    "\n",
    "        # split products raw text into a list\n",
    "        split_pivot = \"||<<>>####+####<<>>||\"\n",
    "        for i in items_indexes:\n",
    "            products_raw = products_raw.replace(i, split_pivot)\n",
    "        products_raw_arr = products_raw.split(split_pivot)[1:]\n",
    "\n",
    "        # parse products and save the successful ones\n",
    "        for p_raw in products_raw_arr:\n",
    "            try:\n",
    "                product = Product(p_raw)\n",
    "            except RuntimeError:\n",
    "                pass\n",
    "            else:\n",
    "                self.__products.append(product)\n",
    "\n",
    "        if not self.__products:\n",
    "            raise RuntimeError(\"The receipt's products' data could not be parsed\")\n",
    "\n",
    "        # save the total price\n",
    "        sum_products = sum([p.get_price() for p in self.__products])\n",
    "        inconsistent = not price and any(\n",
    "            [p.get_price_inconsistency() for p in self.__products]\n",
    "        )\n",
    "        self.__value = parse_float(price) if price else sum_products\n",
    "        self.__pricing_inconsistent = (\n",
    "            inconsistent or abs(sum_products - self.__value) > 3\n",
    "        )\n",
    "\n",
    "    def __str__(self):\n",
    "        n_leading_zeros = get_n_leading_zeros(len(self.__products))\n",
    "        string = \"\\n\\n\".join(\n",
    "            [\n",
    "                f\"Product #{str(i + 1).zfill(n_leading_zeros)}\\n{p}\"\n",
    "                for i, p in enumerate(self.__products)\n",
    "            ]\n",
    "        )\n",
    "        string += f\"\\n\\nTOTAL RECEIPT VALUE: R${self.get_value()}\"\n",
    "        string += \" (maybe)\" if self.__pricing_inconsistent else \"\"\n",
    "        return string\n",
    "\n",
    "    def get_products(self):\n",
    "        return self.__products\n",
    "\n",
    "    def get_value(self):\n",
    "        return self.__value"
   ]
  },
  {
   "cell_type": "markdown",
   "id": "0cb48149",
   "metadata": {},
   "source": [
    "### Main Program "
   ]
  },
  {
   "cell_type": "markdown",
   "id": "5629c40a",
   "metadata": {},
   "source": [
    "daqui para baixo é a função contida em main.py a função principal"
   ]
  },
  {
   "cell_type": "markdown",
   "id": "b91914b1",
   "metadata": {},
   "source": [
    "#### Read original image"
   ]
  },
  {
   "cell_type": "code",
   "execution_count": null,
   "id": "e23a18c1",
   "metadata": {},
   "outputs": [],
   "source": [
    "image_filepath = prompt(\n",
    "    \"What is the path (relative or absolute) to the grocery receipt photo?\",\n",
    "    image_exists,\n",
    "    \"The filepath must be of a PNG or JPG image and the file must exist.\",\n",
    ")\n",
    "original_img: NDArray = cv2.imread(image_filepath, cv2.IMREAD_GRAYSCALE)"
   ]
  },
  {
   "cell_type": "markdown",
   "id": "5aef3d1f",
   "metadata": {},
   "source": [
    "#### Print original image"
   ]
  },
  {
   "cell_type": "code",
   "execution_count": null,
   "id": "ac887b09",
   "metadata": {},
   "outputs": [],
   "source": [
    "plt"
   ]
  },
  {
   "cell_type": "code",
   "execution_count": null,
   "id": "a9783049",
   "metadata": {},
   "outputs": [],
   "source": [
    "# apply otsu binarization to the pre-processed image\n",
    "otsu_img: NDArray\n",
    "_, otsu_img = cv2.threshold(\n",
    "    clean(original_img),\n",
    "    0,\n",
    "    255,\n",
    "    cv2.THRESH_BINARY + cv2.THRESH_OTSU,\n",
    ")"
   ]
  },
  {
   "cell_type": "code",
   "execution_count": null,
   "id": "f55a2e54",
   "metadata": {},
   "outputs": [],
   "source": [
    "# apply morphological opening in order to close gaps\n",
    "kernel = cv2.getStructuringElement(cv2.MORPH_ELLIPSE, (2, 2))\n",
    "otsu_img = cv2.morphologyEx(otsu_img, cv2.MORPH_OPEN, kernel)"
   ]
  },
  {
   "cell_type": "code",
   "execution_count": null,
   "id": "06e9db22",
   "metadata": {},
   "outputs": [],
   "source": [
    "# apply OCR\n",
    "text: str = pytesseract.image_to_string(\n",
    "    otsu_img, lang=\"por+grocery+eng\", config=\"--oem 1 --psm 1\"\n",
    ")"
   ]
  },
  {
   "cell_type": "code",
   "execution_count": null,
   "id": "10e9ccb1",
   "metadata": {},
   "outputs": [],
   "source": [
    "# Print output\n",
    "print(Receipt(text))"
   ]
  }
 ],
 "metadata": {
  "kernelspec": {
   "display_name": "Python 3 (ipykernel)",
   "language": "python",
   "name": "python3"
  },
  "language_info": {
   "codemirror_mode": {
    "name": "ipython",
    "version": 3
   },
   "file_extension": ".py",
   "mimetype": "text/x-python",
   "name": "python",
   "nbconvert_exporter": "python",
   "pygments_lexer": "ipython3",
   "version": "3.9.7"
  }
 },
 "nbformat": 4,
 "nbformat_minor": 5
}
